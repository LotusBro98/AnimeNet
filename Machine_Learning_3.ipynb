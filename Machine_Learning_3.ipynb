{
  "nbformat": 4,
  "nbformat_minor": 0,
  "metadata": {
    "colab": {
      "name": "Machine Learning 3.ipynb",
      "version": "0.3.2",
      "provenance": [],
      "collapsed_sections": [],
      "include_colab_link": true
    },
    "kernelspec": {
      "name": "python3",
      "display_name": "Python 3"
    },
    "accelerator": "GPU"
  },
  "cells": [
    {
      "cell_type": "markdown",
      "metadata": {
        "id": "view-in-github",
        "colab_type": "text"
      },
      "source": [
        "<a href=\"https://colab.research.google.com/github/LotusBro98/AnimeNet/blob/master/Machine_Learning_3.ipynb\" target=\"_parent\"><img src=\"https://colab.research.google.com/assets/colab-badge.svg\" alt=\"Open In Colab\"/></a>"
      ]
    },
    {
      "cell_type": "markdown",
      "metadata": {
        "id": "TSb6eEZL8zhp",
        "colab_type": "text"
      },
      "source": [
        "# Машинное обучение\n",
        "## Идентификация объектов\n",
        "\n",
        "---\n",
        "\n",
        "<img width=\"100%\" src=\"https://i.pinimg.com/736x/83/d2/14/83d214b253298e3eb191d071921d7cc1.jpg\" />\n",
        "\n",
        "---"
      ]
    }
  ]
}